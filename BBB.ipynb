{
 "cells": [
  {
   "cell_type": "code",
   "execution_count": 1,
   "metadata": {},
   "outputs": [],
   "source": [
    "import numpy as np\n",
    "\n",
    "import tensorflow as tf\n",
    "from tensorflow.keras.layers import Layer\n",
    "from tensorflow.keras import Model\n",
    "import tensorflow_probability as tfp\n",
    "import matplotlib.pylab as plt"
   ]
  },
  {
   "cell_type": "code",
   "execution_count": 2,
   "metadata": {},
   "outputs": [
    {
     "data": {
      "text/plain": [
       "[<matplotlib.lines.Line2D at 0x7fdbb052d460>]"
      ]
     },
     "execution_count": 2,
     "metadata": {},
     "output_type": "execute_result"
    },
    {
     "data": {
      "image/png": "[encoded data removed]",
      "text/plain": [
       "<Figure size 432x288 with 1 Axes>"
      ]
     },
     "metadata": {
      "needs_background": "light"
     },
     "output_type": "display_data"
    }
   ],
   "source": [
    "# Lets create some data\n",
    "\n",
    "x = np.arange(-5,5, 0.1)\n",
    "y = x+ x*np.sin(x)\n",
    "plt.plot(x,y)"
   ]
  },
  {
   "cell_type": "code",
   "execution_count": 4,
   "metadata": {},
   "outputs": [
    {
     "data": {
      "text/plain": [
       "[<matplotlib.lines.Line2D at 0x7fdbb07d4d60>]"
      ]
     },
     "execution_count": 4,
     "metadata": {},
     "output_type": "execute_result"
    },
    {
     "data": {
      "image/png": "[encoded data removed]",
      "text/plain": [
       "<Figure size 432x288 with 1 Axes>"
      ]
     },
     "metadata": {
      "needs_background": "light"
     },
     "output_type": "display_data"
    }
   ],
   "source": [
    "# but real data is never so perfect\n",
    "# Lets add some noise\n",
    "\n",
    "random_error = 0.5*np.random.rand(1000).reshape(1000,1)\n",
    "x = np.arange(-5,5, 0.01).reshape(1000,1)\n",
    "x_error = x+random_error\n",
    "\n",
    "y=x_error+ x_error*np.sin(x_error)\n",
    "\n",
    "#y = ((x+random_error)*np.sin(x+random_error)).reshape(1000,1)\n",
    "plt.plot(x,y)"
   ]
  },
  {
   "cell_type": "code",
   "execution_count": 72,
   "metadata": {},
   "outputs": [],
   "source": [
    "# We need to define some distribution for our model\n",
    "\n",
    "class Gaussian(object):\n",
    "    def __init__(self, mu, **kwargs):\n",
    "        \n",
    "        \n",
    "        self.mu = mu\n",
    "        #sigma = log(1+e^rho)\n",
    "        rho = kwargs.get(\"rho\", None)\n",
    "        sigma = kwargs.get(\"sigma\", None)\n",
    "\n",
    "        if (rho is None) and (sigma is None):\n",
    "            assert \"None of rho or sigma is specified\"\n",
    "        elif rho is None:\n",
    "            self.sigma = sigma\n",
    "            self.rho = tf.math.log(tf.math.exp(self.sigma)-1)\n",
    "        elif sigma is None:\n",
    "            self.rho = rho\n",
    "            self.sigma = tf.math.log(1+ tf.math.exp(self.rho))\n",
    "            \n",
    "            \n",
    "    def sample(self):   \n",
    "        epsilon = tf.random.normal(shape = self.mu.shape)\n",
    "        sample = self.mu+self.sigma*epsilon\n",
    "        return sample\n",
    "\n",
    "    def log_prob(self,x):\n",
    "        \n",
    "        log_prob = tf.reduce_sum(tfp.distributions.Normal(loc = self.mu, scale = self.sigma).log_prob(x))\n",
    "        \n",
    "        return log_prob\n",
    "    \n",
    "class ScaleMixtureGaussian(object):\n",
    "    def __init__(self, pi, sigma_1, sigma_2):\n",
    "        self.pi = pi\n",
    "        self.sigma_1 = sigma_1\n",
    "        self.sigma_2 = sigma_2\n",
    "        self.gaussian_1 = Gaussian(mu = 0.0, sigma = sigma_1)\n",
    "        self.gaussian_2 = Gaussian(mu = 0.0, sigma = sigma_2)\n",
    "\n",
    "    def log_prob(self,x):\n",
    "        prob_1 = tf.clip_by_value(tf.math.exp(self.gaussian_1.log_prob(x)), clip_value_min= 1e-10, clip_value_max= 1.)\n",
    "        prob_2 = tf.clip_by_value(tf.math.exp(self.gaussian_2.log_prob(x)), clip_value_min = 1e-10, clip_value_max = 1.)\n",
    "        \n",
    "        return tf.math.log(self.pi*prob_1+(1-self.pi)*prob_2)"
   ]
  },
  {
   "cell_type": "code",
   "execution_count": 73,
   "metadata": {},
   "outputs": [],
   "source": [
    "# Now lets create our Bayesian Layer\n",
    "\n",
    "class BayesianDense(Layer):\n",
    "    def __init__(self, units = 4, activation = None, **kwargs):\n",
    "        super(BayesianDense, self).__init__(**kwargs)\n",
    "        self.units = units\n",
    "        prior_pi = 0.5\n",
    "        prior_sigma_1 = tf.math.exp(1.0)\n",
    "        prior_sigma_2 = tf.math.exp(-1.0)\n",
    "        \n",
    "        self.activation = tf.keras.activations.get(activation)\n",
    "        \n",
    "        self.prior = ScaleMixtureGaussian(prior_pi, prior_sigma_1, prior_sigma_2)\n",
    "                \n",
    "        self.log_prior = 0\n",
    "        self.log_posterior = 0\n",
    "                \n",
    "    def build(self, input_shape):\n",
    "        \n",
    "        w_init = tf.random_uniform_initializer(-2.0, 2.0)\n",
    "        b_init = tf.zeros_initializer()\n",
    "        self.w_mu = tf.Variable(name='w_mu',\n",
    "                               initial_value= w_init(shape=(input_shape[-1], self.units),\n",
    "                                                    dtype = 'float32'), trainable = True)\n",
    "        self.w_rho = tf.Variable(name='w_rho',\n",
    "                                 initial_value= w_init(shape=(input_shape[-1], self.units),\n",
    "                                                    dtype = 'float32'), trainable = True)\n",
    "        self.b_mu = tf.Variable(name='b_mu',\n",
    "                               initial_value= b_init(shape=(self.units,),\n",
    "                                                    dtype = 'float32'), trainable = True)\n",
    "        \n",
    "        self.b_rho = tf.Variable(name='b_rho',\n",
    "                               initial_value= b_init(shape=(self.units,),\n",
    "                                                    dtype = 'float32'), trainable = True)\n",
    "        \n",
    "        \n",
    "    def call(self, inputs, training=None):\n",
    "        '''This is where all the computation takes place.'''\n",
    "        \n",
    "        self.w_dist = Gaussian(self.w_mu, rho = self.w_rho)\n",
    "        self.b_dist = Gaussian(self.b_mu, rho = self.b_rho)\n",
    "        \n",
    "        \n",
    "        if training:\n",
    "            self.w = self.w_dist.sample()\n",
    "            self.b = self.b_dist.sample()\n",
    "\n",
    "        else:\n",
    "            self.w = self.w_dist.mu\n",
    "            self.b = self.b_dist.mu\n",
    "            \n",
    "        \n",
    "        self.log_prior = self.prior.log_prob(self.w) + \\\n",
    "                              self.prior.log_prob(self.b)\n",
    "            \n",
    "        self.log_posterior = self.w_dist.log_prob(self.w) + \\\n",
    "                              self.b_dist.log_prob(self.b)\n",
    "        \n",
    "        #print(self.log_prior)\n",
    "        #print(f' This is posterior {self.log_posterior}')\n",
    "\n",
    "\n",
    "        \n",
    "        o = self.activation(tf.matmul(inputs,self.w)+self.b)\n",
    "     \n",
    "        return o\n",
    "        "
   ]
  },
  {
   "cell_type": "code",
   "execution_count": 87,
   "metadata": {},
   "outputs": [],
   "source": [
    "class BayesianModel(Model):\n",
    "    \n",
    "    def __init__(self):\n",
    "        super(BayesianModel, self).__init__()\n",
    "        \n",
    "        self.l1 = BayesianDense(input_shape = (1,) , units = 8, activation='relu', name = 'bayesian_dense_1')\n",
    "        self.l2 = BayesianDense(units = 4, activation='relu', name = 'bayesian_dense_2')\n",
    "        self.l3 = BayesianDense(units = 1, activation='relu', name = 'bayesian_dense_3')\n",
    "        #self.l4 = BayesianDense(units = 1, name = 'bayesian_dense_3')\n",
    "\n",
    "    def log_prior(self):\n",
    "        \n",
    "        return self.l1.log_prior + self.l2.log_prior + self.l3.log_prior # +self.l4.log_prior\n",
    "        \n",
    "    def log_posterior(self):\n",
    "        return self.l1.log_posterior + self.l2.log_posterior + self.l3.log_posterior # + self.l4.log_posterior\n",
    "    \n",
    "    def sample_elbo(self, x_val, y_true):\n",
    "        \n",
    "        samples = 20\n",
    "        log_priors = []\n",
    "        log_posteriors = []\n",
    "        log_likelihoods = []\n",
    "\n",
    "\n",
    "        for i in range(samples):\n",
    "            output = self(x_val)\n",
    "            log_priors.append(self.log_prior())\n",
    "            log_posteriors.append(self.log_posterior())\n",
    "            log_likelihoods.append(Gaussian(mu = output, sigma = 5.0).log_prob(y_true))\n",
    "        \n",
    "        log_prior = tf.math.reduce_mean(tf.stack(log_priors))\n",
    "        log_posterior = tf.math.reduce_mean(tf.stack(log_posteriors))\n",
    "        log_likelihood = tf.math.reduce_mean(tf.stack(log_likelihoods))\n",
    "\n",
    "        elbo = log_posterior-log_prior-log_likelihood\n",
    "\n",
    "\n",
    "        print(f'This is log posterior {log_posterior}')\n",
    "        print(f'This is log prior {log_prior}')\n",
    "        print(f'This is log likelihood {log_likelihood}')\n",
    "\n",
    "        return elbo\n",
    "        \n",
    "    def call(self, inputs):\n",
    "        \n",
    "        x = self.l1(inputs)\n",
    "        x = self.l2(x)\n",
    "        x = self.l3(x)\n",
    "        # x = self.l4(x)\n",
    "\n",
    "        return x\n",
    "    \n",
    "        \n",
    "model = BayesianModel()"
   ]
  },
  {
   "cell_type": "code",
   "execution_count": 88,
   "metadata": {},
   "outputs": [
    {
     "name": "stdout",
     "output_type": "stream",
     "text": [
      "Model: \"bayesian_model_14\"\n",
      "_________________________________________________________________\n",
      "Layer (type)                 Output Shape              Param #   \n",
      "=================================================================\n",
      "bayesian_dense_1 (BayesianDe multiple                  32        \n",
      "_________________________________________________________________\n",
      "bayesian_dense_2 (BayesianDe multiple                  72        \n",
      "_________________________________________________________________\n",
      "bayesian_dense_3 (BayesianDe multiple                  10        \n",
      "=================================================================\n",
      "Total params: 114\n",
      "Trainable params: 114\n",
      "Non-trainable params: 0\n",
      "_________________________________________________________________\n"
     ]
    }
   ],
   "source": [
    "model.build(input_shape = (1000,1))\n",
    "model.summary()"
   ]
  },
  {
   "cell_type": "code",
   "execution_count": 89,
   "metadata": {},
   "outputs": [
    {
     "name": "stdout",
     "output_type": "stream",
     "text": [
      "This is log posterior -25.340789794921875\n",
      "This is log prior -48.733497619628906\n",
      "This is log likelihood -2728.4541015625\n",
      "This is log posterior -62.087646484375\n",
      "This is log prior -72.73988342285156\n",
      "This is log likelihood -11154.7763671875\n",
      "This is log posterior -90.49930572509766\n",
      "This is log prior -67.10432434082031\n",
      "This is log likelihood -2736.78955078125\n",
      "This is log posterior -111.7291488647461\n",
      "This is log prior -74.67322540283203\n",
      "This is log likelihood -2750.29150390625\n",
      "This is log posterior -127.63252258300781\n",
      "This is log prior -77.32788848876953\n",
      "This is log likelihood -2750.29150390625\n",
      "This is log posterior -139.87255859375\n",
      "This is log prior -79.53475952148438\n",
      "This is log likelihood -2750.29150390625\n",
      "This is log posterior -149.61509704589844\n",
      "This is log prior -81.29000854492188\n",
      "This is log likelihood -2750.29150390625\n",
      "This is log posterior -157.60845947265625\n",
      "This is log prior -82.97891998291016\n",
      "This is log likelihood -2750.29150390625\n",
      "This is log posterior -164.33071899414062\n",
      "This is log prior -84.59242248535156\n",
      "This is log likelihood -2750.29150390625\n",
      "This is log posterior -170.09619140625\n",
      "This is log prior -86.09125518798828\n",
      "This is log likelihood -2750.29150390625\n"
     ]
    }
   ],
   "source": [
    "tf.random.set_seed(\n",
    "    1\n",
    ")\n",
    "\n",
    "epochs = 10\n",
    "optimizer = tf.keras.optimizers.Adam(lr=1)\n",
    "\n",
    "\n",
    "loss_list= []\n",
    "# Iterate over epochs.\n",
    "for epoch in range(epochs):\n",
    "    \n",
    "    with tf.GradientTape() as tape:\n",
    "        y_pred = model(x, training= True)\n",
    "        # Compute reconstruction loss\n",
    "        loss = model.sample_elbo(x_val=x, y_true = y)        \n",
    "        grads = tape.gradient(loss, model.trainable_weights)\n",
    "        \n",
    "    loss_list.append(loss)\n",
    "    optimizer.apply_gradients(zip(grads, model.trainable_weights))\n"
   ]
  },
  {
   "cell_type": "code",
   "execution_count": 90,
   "metadata": {
    "scrolled": false
   },
   "outputs": [
    {
     "data": {
      "text/plain": [
       "[<matplotlib.lines.Line2D at 0x7fdbb6572c10>]"
      ]
     },
     "execution_count": 90,
     "metadata": {},
     "output_type": "execute_result"
    },
    {
     "data": {
      "image/png": "[encoded data removed]",
      "text/plain": [
       "<Figure size 432x288 with 1 Axes>"
      ]
     },
     "metadata": {
      "needs_background": "light"
     },
     "output_type": "display_data"
    }
   ],
   "source": [
    "plt.plot(loss_list)"
   ]
  },
  {
   "cell_type": "code",
   "execution_count": 86,
   "metadata": {
    "scrolled": true
   },
   "outputs": [
    {
     "data": {
      "text/plain": [
       "[<matplotlib.lines.Line2D at 0x7fdbb9766880>]"
      ]
     },
     "execution_count": 86,
     "metadata": {},
     "output_type": "execute_result"
    },
    {
     "data": {
      "image/png": "[encoded data removed]",
      "text/plain": [
       "<Figure size 432x288 with 1 Axes>"
      ]
     },
     "metadata": {
      "needs_background": "light"
     },
     "output_type": "display_data"
    }
   ],
   "source": [
    "plt.plot(x,model(x))"
   ]
  },
  {
   "cell_type": "code",
   "execution_count": null,
   "metadata": {},
   "outputs": [],
   "source": []
  },
  {
   "cell_type": "code",
   "execution_count": null,
   "metadata": {},
   "outputs": [],
   "source": []
  }
 ],
 "metadata": {
  "kernelspec": {
   "display_name": "Python 3",
   "language": "python",
   "name": "python3"
  },
  "language_info": {
   "codemirror_mode": {
    "name": "ipython",
    "version": 3
   },
   "file_extension": ".py",
   "mimetype": "text/x-python",
   "name": "python",
   "nbconvert_exporter": "python",
   "pygments_lexer": "ipython3",
   "version": "3.8.2"
  }
 },
 "nbformat": 4,
 "nbformat_minor": 4
}
